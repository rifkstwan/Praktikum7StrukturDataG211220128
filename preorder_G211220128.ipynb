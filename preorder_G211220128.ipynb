{
  "nbformat": 4,
  "nbformat_minor": 0,
  "metadata": {
    "colab": {
      "provenance": []
    },
    "kernelspec": {
      "name": "python3",
      "display_name": "Python 3"
    },
    "language_info": {
      "name": "python"
    }
  },
  "cells": [
    {
      "cell_type": "code",
      "execution_count": 2,
      "metadata": {
        "colab": {
          "base_uri": "https://localhost:8080/"
        },
        "id": "RpeGc6X-Ac4F",
        "outputId": "3caec02c-b3f9-412c-e687-4b452fedfcaf"
      },
      "outputs": [
        {
          "output_type": "stream",
          "name": "stdout",
          "text": [
            "\n",
            "Preorder traversal of binary tree is\n",
            "1\n",
            "2\n",
            "4\n",
            "5\n",
            "3\n"
          ]
        }
      ],
      "source": [
        "# Definisikan kelas Node untuk merepresentasikan simpul dalam pohon biner.\n",
        "class Node:\n",
        "    def __init__(self, key):\n",
        "        # Inisialisasi simpul dengan nilai (key), dan kedua anak simpul (left dan right) diatur sebagai None.\n",
        "        self.left = None\n",
        "        self.right = None\n",
        "        self.val = key\n",
        "\n",
        "# Fungsi untuk mencetak traversal preorder dari pohon biner.\n",
        "def printPreorder(root):\n",
        "    # Jika root tidak kosong (tidak None), lakukan traversal preorder.\n",
        "    if root:\n",
        "        # Cetak nilai simpul saat ini.\n",
        "        print(root.val),\n",
        "        # Panggil printPreorder untuk simpul kiri secara rekursif.\n",
        "        printPreorder(root.left)\n",
        "        # Panggil printPreorder untuk simpul kanan secara rekursif.\n",
        "        printPreorder(root.right)\n",
        "\n",
        "# Program utama dimulai di sini.\n",
        "if __name__ == \"__main__\":\n",
        "    # Membuat objek root dari kelas Node dengan nilai 1.\n",
        "    root = Node(1)\n",
        "    # Menyusun struktur pohon dengan menambahkan simpul anak kiri (2) dan anak kanan (3) ke root.\n",
        "    root.left = Node(2)\n",
        "    root.right = Node(3)\n",
        "    # Menambahkan simpul anak kiri (4) dan anak kanan (5) ke simpul anak kiri (2).\n",
        "    root.left.left = Node(4)\n",
        "    root.left.right = Node(5)\n",
        "\n",
        "    # Cetak hasil traversal preorder dari pohon biner.\n",
        "    print(\"\\nPreorder traversal of binary tree is\")\n",
        "    printPreorder(root)\n"
      ]
    }
  ]
}